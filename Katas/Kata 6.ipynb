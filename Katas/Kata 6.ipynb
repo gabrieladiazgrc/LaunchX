{
 "cells": [
  {
   "cell_type": "markdown",
   "metadata": {},
   "source": [
    "# Kata 6\n",
    "\n",
    "### Ejercicio 1"
   ]
  },
  {
   "cell_type": "code",
   "execution_count": 24,
   "metadata": {},
   "outputs": [
    {
     "name": "stdout",
     "output_type": "stream",
     "text": [
      "['Mercurio', 'Venus', 'Tierra', 'Marte', 'Júpiter', 'Saturno', 'Urano', 'Neptuno']\n",
      "['Mercurio', 'Venus', 'Tierra', 'Marte', 'Júpiter', 'Saturno', 'Urano', 'Neptuno', 'Plutón']\n",
      "El último planeta de la lista es: Plutón\n"
     ]
    }
   ],
   "source": [
    "# Crear lista de planetas e imprimirla.\n",
    "\n",
    "planetas = [\"Mercurio\", \"Venus\", \"Tierra\", \"Marte\", \"Júpiter\", \"Saturno\", \"Urano\", \"Neptuno\"]\n",
    "print(planetas)\n",
    "\n",
    "# Agregar Plutón a la lista.\n",
    "# Imprimir nueva lista.\n",
    "# Imprimir último planeta.\n",
    "\n",
    "planetas.append(\"Plutón\")\n",
    "print(planetas)\n",
    "print(\"El último planeta de la lista es:\", planetas[-1])"
   ]
  },
  {
   "cell_type": "markdown",
   "metadata": {},
   "source": [
    "### Ejercicio 2"
   ]
  },
  {
   "cell_type": "code",
   "execution_count": 23,
   "metadata": {},
   "outputs": [
    {
     "name": "stdout",
     "output_type": "stream",
     "text": [
      "Júpiter tiene una posición de 5 respecto al Sol.\n",
      "Planetas antes de Júpiter: ['Mercurio', 'Venus', 'Tierra', 'Marte']\n",
      "Planetas después de Júpiter: ['Saturno', 'Urano']\n"
     ]
    }
   ],
   "source": [
    "# Crear lista de planetas.\n",
    "\n",
    "planetas = [\"Mercurio\", \"Venus\", \"Tierra\", \"Marte\", \"Júpiter\", \"Saturno\", \"Urano\", \"Neptuno\"]\n",
    "\n",
    "# Solicitar nombre del planeta al usuario.\n",
    "\n",
    "solicitar_nombre = input(\"Introduce el nombre de un planeta: \")\n",
    "\n",
    "# Buscar el planeta en la lista.\n",
    "\n",
    "posición = planetas.index(solicitar_nombre) + 1\n",
    "print(f\"{str(solicitar_nombre)} tiene una posición de {posición} respecto al Sol.\")\n",
    "\n",
    "# Mostrar planetas más cercanos que el ingresado por el usuario.\n",
    "\n",
    "planetas_anteriores = planetas[0:posición - 1]\n",
    "print(f\"Planetas antes de {str(solicitar_nombre)}: {str(planetas_anteriores)}\")\n",
    "\n",
    "# Mostrar planetas más lejanos que el ingresado por el usuario.\n",
    "\n",
    "planetas_posteriores = planetas[posición:-1]\n",
    "print(f\"Planetas después de {str(solicitar_nombre)}: {str(planetas_posteriores)}\")"
   ]
  }
 ],
 "metadata": {
  "interpreter": {
   "hash": "916dbcbb3f70747c44a77c7bcd40155683ae19c65e1c03b4aa3499c5328201f1"
  },
  "kernelspec": {
   "display_name": "Python 3.8.10 64-bit",
   "language": "python",
   "name": "python3"
  },
  "language_info": {
   "codemirror_mode": {
    "name": "ipython",
    "version": 3
   },
   "file_extension": ".py",
   "mimetype": "text/x-python",
   "name": "python",
   "nbconvert_exporter": "python",
   "pygments_lexer": "ipython3",
   "version": "3.8.10"
  },
  "orig_nbformat": 4
 },
 "nbformat": 4,
 "nbformat_minor": 2
}
