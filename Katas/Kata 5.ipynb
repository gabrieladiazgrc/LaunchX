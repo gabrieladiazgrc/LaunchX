{
 "cells": [
  {
   "cell_type": "markdown",
   "metadata": {},
   "source": [
    "# Kata 5\n",
    "\n",
    "### Ejercicio 1"
   ]
  },
  {
   "cell_type": "code",
   "execution_count": 12,
   "metadata": {},
   "outputs": [
    {
     "name": "stdout",
     "output_type": "stream",
     "text": [
      "Distancia en kilómetros: 628949330 km\n",
      "Distancia en millas: 390577533.93 mi\n"
     ]
    }
   ],
   "source": [
    "# Calcular distancia entre dos planetas.\n",
    "# Crear variables para almacenar distancias.\n",
    "\n",
    "tierra = int(149597870) # km\n",
    "júpiter = int(778547200) # km\n",
    "\n",
    "# Obtener distancia en kilómetros.\n",
    "\n",
    "distancia_km = int(júpiter - tierra)\n",
    "print(f\"Distancia en kilómetros: {distancia_km} km\")\n",
    "\n",
    "# Convertir distancia a millas.\n",
    "\n",
    "distancia_mi = int(distancia_km)*0.621\n",
    "print(f\"Distancia en millas: {distancia_mi} mi\")"
   ]
  },
  {
   "cell_type": "markdown",
   "metadata": {},
   "source": [
    "### Ejercicio 2"
   ]
  },
  {
   "cell_type": "code",
   "execution_count": 23,
   "metadata": {},
   "outputs": [
    {
     "name": "stdout",
     "output_type": "stream",
     "text": [
      "Distancia entre dos planetas en kilómetros: 2814600000 km\n",
      "Distancia entre dos planetas en millas: ≈1747866600 mi\n"
     ]
    }
   ],
   "source": [
    "# Crear aplicación para trabajar con números y entrada de usuario.\n",
    "# Almacenar entrada del usuario.\n",
    "\n",
    "planeta_1 = input(\"Introduce la distancia al sol para el primer planeta: \")\n",
    "planeta_2 = input(\"Introduce la distancia al sol para el segundo planeta: \")\n",
    "\n",
    "planeta_1 = int(planeta_1)\n",
    "planeta_2 = int(planeta_2)\n",
    "\n",
    "distancia_km = planeta_2 - planeta_1\n",
    "print(f\"Distancia entre dos planetas en kilómetros: {distancia_km} km\")\n",
    "\n",
    "distancia_mi = int(distancia_km)*0.621\n",
    "print(f\"Distancia entre dos planetas en millas: ≈{int(abs(distancia_mi))} mi\")"
   ]
  }
 ],
 "metadata": {
  "interpreter": {
   "hash": "916dbcbb3f70747c44a77c7bcd40155683ae19c65e1c03b4aa3499c5328201f1"
  },
  "kernelspec": {
   "display_name": "Python 3.8.10 64-bit",
   "language": "python",
   "name": "python3"
  },
  "language_info": {
   "codemirror_mode": {
    "name": "ipython",
    "version": 3
   },
   "file_extension": ".py",
   "mimetype": "text/x-python",
   "name": "python",
   "nbconvert_exporter": "python",
   "pygments_lexer": "ipython3",
   "version": "3.8.10"
  },
  "orig_nbformat": 4
 },
 "nbformat": 4,
 "nbformat_minor": 2
}
